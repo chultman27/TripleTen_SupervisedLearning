{
 "cells": [
  {
   "cell_type": "markdown",
   "metadata": {},
   "source": [
    "## Introduction"
   ]
  },
  {
   "cell_type": "markdown",
   "metadata": {},
   "source": [
    "This project aims to help Beta Bank with its issue of customer retention. Customers are leaving little by little, and the company wants to predict whether or not a customer will leave the bank. \n",
    "\n",
    "This will be done by:\n",
    "1) Trying different models types to see which yields more reliable results\n",
    "2) Tuning hyperparameters of given models to maximize efficiency\n",
    "3) investigating class imbalance and mitigating its potential effects\n",
    "4) Comparing F1 scores across different models to meet threshold of 0.59\n",
    "5) Comparing AUC_ROC metrics to ensure model quality"
   ]
  },
  {
   "cell_type": "markdown",
   "metadata": {},
   "source": [
    "## Download and Clean Data"
   ]
  },
  {
   "cell_type": "code",
   "execution_count": 21,
   "metadata": {
    "trusted": true
   },
   "outputs": [],
   "source": [
    "#load libraries\n",
    "import pandas as pd\n",
    "import numpy as np\n",
    "import math\n",
    "from sklearn.model_selection import train_test_split\n",
    "from sklearn.linear_model import LogisticRegression\n",
    "from sklearn.metrics import (accuracy_score)\n",
    "from sklearn.model_selection import GridSearchCV\n",
    "from sklearn.metrics import confusion_matrix\n",
    "from sklearn.tree import DecisionTreeClassifier\n",
    "from sklearn.metrics import f1_score\n",
    "from sklearn.metrics import roc_auc_score\n",
    "from sklearn.utils import shuffle\n",
    "from sklearn.metrics import accuracy_score, confusion_matrix\n",
    "from sklearn.ensemble import RandomForestClassifier\n",
    "import matplotlib.pyplot as plt\n",
    "from sklearn import metrics"
   ]
  },
  {
   "cell_type": "code",
   "execution_count": 22,
   "metadata": {
    "trusted": true
   },
   "outputs": [
    {
     "name": "stdout",
     "output_type": "stream",
     "text": [
      "<class 'pandas.core.frame.DataFrame'>\n",
      "RangeIndex: 10000 entries, 0 to 9999\n",
      "Data columns (total 14 columns):\n",
      " #   Column           Non-Null Count  Dtype  \n",
      "---  ------           --------------  -----  \n",
      " 0   RowNumber        10000 non-null  int64  \n",
      " 1   CustomerId       10000 non-null  int64  \n",
      " 2   Surname          10000 non-null  object \n",
      " 3   CreditScore      10000 non-null  int64  \n",
      " 4   Geography        10000 non-null  object \n",
      " 5   Gender           10000 non-null  object \n",
      " 6   Age              10000 non-null  int64  \n",
      " 7   Tenure           9091 non-null   float64\n",
      " 8   Balance          10000 non-null  float64\n",
      " 9   NumOfProducts    10000 non-null  int64  \n",
      " 10  HasCrCard        10000 non-null  int64  \n",
      " 11  IsActiveMember   10000 non-null  int64  \n",
      " 12  EstimatedSalary  10000 non-null  float64\n",
      " 13  Exited           10000 non-null  int64  \n",
      "dtypes: float64(3), int64(8), object(3)\n",
      "memory usage: 1.1+ MB\n"
     ]
    },
    {
     "data": {
      "text/plain": [
       "None"
      ]
     },
     "metadata": {},
     "output_type": "display_data"
    },
    {
     "data": {
      "text/html": [
       "<div>\n",
       "<style scoped>\n",
       "    .dataframe tbody tr th:only-of-type {\n",
       "        vertical-align: middle;\n",
       "    }\n",
       "\n",
       "    .dataframe tbody tr th {\n",
       "        vertical-align: top;\n",
       "    }\n",
       "\n",
       "    .dataframe thead th {\n",
       "        text-align: right;\n",
       "    }\n",
       "</style>\n",
       "<table border=\"1\" class=\"dataframe\">\n",
       "  <thead>\n",
       "    <tr style=\"text-align: right;\">\n",
       "      <th></th>\n",
       "      <th>RowNumber</th>\n",
       "      <th>CustomerId</th>\n",
       "      <th>Surname</th>\n",
       "      <th>CreditScore</th>\n",
       "      <th>Geography</th>\n",
       "      <th>Gender</th>\n",
       "      <th>Age</th>\n",
       "      <th>Tenure</th>\n",
       "      <th>Balance</th>\n",
       "      <th>NumOfProducts</th>\n",
       "      <th>HasCrCard</th>\n",
       "      <th>IsActiveMember</th>\n",
       "      <th>EstimatedSalary</th>\n",
       "      <th>Exited</th>\n",
       "    </tr>\n",
       "  </thead>\n",
       "  <tbody>\n",
       "    <tr>\n",
       "      <th>0</th>\n",
       "      <td>1</td>\n",
       "      <td>15634602</td>\n",
       "      <td>Hargrave</td>\n",
       "      <td>619</td>\n",
       "      <td>France</td>\n",
       "      <td>Female</td>\n",
       "      <td>42</td>\n",
       "      <td>2.0</td>\n",
       "      <td>0.00</td>\n",
       "      <td>1</td>\n",
       "      <td>1</td>\n",
       "      <td>1</td>\n",
       "      <td>101348.88</td>\n",
       "      <td>1</td>\n",
       "    </tr>\n",
       "    <tr>\n",
       "      <th>1</th>\n",
       "      <td>2</td>\n",
       "      <td>15647311</td>\n",
       "      <td>Hill</td>\n",
       "      <td>608</td>\n",
       "      <td>Spain</td>\n",
       "      <td>Female</td>\n",
       "      <td>41</td>\n",
       "      <td>1.0</td>\n",
       "      <td>83807.86</td>\n",
       "      <td>1</td>\n",
       "      <td>0</td>\n",
       "      <td>1</td>\n",
       "      <td>112542.58</td>\n",
       "      <td>0</td>\n",
       "    </tr>\n",
       "    <tr>\n",
       "      <th>2</th>\n",
       "      <td>3</td>\n",
       "      <td>15619304</td>\n",
       "      <td>Onio</td>\n",
       "      <td>502</td>\n",
       "      <td>France</td>\n",
       "      <td>Female</td>\n",
       "      <td>42</td>\n",
       "      <td>8.0</td>\n",
       "      <td>159660.80</td>\n",
       "      <td>3</td>\n",
       "      <td>1</td>\n",
       "      <td>0</td>\n",
       "      <td>113931.57</td>\n",
       "      <td>1</td>\n",
       "    </tr>\n",
       "    <tr>\n",
       "      <th>3</th>\n",
       "      <td>4</td>\n",
       "      <td>15701354</td>\n",
       "      <td>Boni</td>\n",
       "      <td>699</td>\n",
       "      <td>France</td>\n",
       "      <td>Female</td>\n",
       "      <td>39</td>\n",
       "      <td>1.0</td>\n",
       "      <td>0.00</td>\n",
       "      <td>2</td>\n",
       "      <td>0</td>\n",
       "      <td>0</td>\n",
       "      <td>93826.63</td>\n",
       "      <td>0</td>\n",
       "    </tr>\n",
       "    <tr>\n",
       "      <th>4</th>\n",
       "      <td>5</td>\n",
       "      <td>15737888</td>\n",
       "      <td>Mitchell</td>\n",
       "      <td>850</td>\n",
       "      <td>Spain</td>\n",
       "      <td>Female</td>\n",
       "      <td>43</td>\n",
       "      <td>2.0</td>\n",
       "      <td>125510.82</td>\n",
       "      <td>1</td>\n",
       "      <td>1</td>\n",
       "      <td>1</td>\n",
       "      <td>79084.10</td>\n",
       "      <td>0</td>\n",
       "    </tr>\n",
       "  </tbody>\n",
       "</table>\n",
       "</div>"
      ],
      "text/plain": [
       "   RowNumber  CustomerId   Surname  CreditScore Geography  Gender  Age  \\\n",
       "0          1    15634602  Hargrave          619    France  Female   42   \n",
       "1          2    15647311      Hill          608     Spain  Female   41   \n",
       "2          3    15619304      Onio          502    France  Female   42   \n",
       "3          4    15701354      Boni          699    France  Female   39   \n",
       "4          5    15737888  Mitchell          850     Spain  Female   43   \n",
       "\n",
       "   Tenure    Balance  NumOfProducts  HasCrCard  IsActiveMember  \\\n",
       "0     2.0       0.00              1          1               1   \n",
       "1     1.0   83807.86              1          0               1   \n",
       "2     8.0  159660.80              3          1               0   \n",
       "3     1.0       0.00              2          0               0   \n",
       "4     2.0  125510.82              1          1               1   \n",
       "\n",
       "   EstimatedSalary  Exited  \n",
       "0        101348.88       1  \n",
       "1        112542.58       0  \n",
       "2        113931.57       1  \n",
       "3         93826.63       0  \n",
       "4         79084.10       0  "
      ]
     },
     "metadata": {},
     "output_type": "display_data"
    }
   ],
   "source": [
    "#download data and look at table attributes\n",
    "df = pd.read_csv('/datasets/Churn.csv')\n",
    "display(df.info())\n",
    "display(df.head(5))\n"
   ]
  },
  {
   "cell_type": "markdown",
   "metadata": {},
   "source": [
    "In the data set, changes need to be made in order to make this data compatible with our model. The Surname column is being dropped, because encoding it would produce a large amount of unique values that could impair the model and it is unlikely that the information plays a large role in their banking behavior. It does not seem that there are duplicates, but this must be checked and any duplicates must be dropped. The Tenure column is missing values, and these will be replaced with the median value to mitigate the effects of extreme outliers and allow this data to still be used by the model. All remaining object type data (Gender, Geography) will be encoded to comply with our model using OHE. As there is no inherent order to these features, OHE is sufficient."
   ]
  },
  {
   "cell_type": "code",
   "execution_count": 23,
   "metadata": {
    "trusted": true
   },
   "outputs": [
    {
     "name": "stdout",
     "output_type": "stream",
     "text": [
      "<class 'pandas.core.frame.DataFrame'>\n",
      "RangeIndex: 10000 entries, 0 to 9999\n",
      "Data columns (total 13 columns):\n",
      " #   Column           Non-Null Count  Dtype  \n",
      "---  ------           --------------  -----  \n",
      " 0   RowNumber        10000 non-null  int64  \n",
      " 1   CustomerId       10000 non-null  int64  \n",
      " 2   CreditScore      10000 non-null  int64  \n",
      " 3   Geography        10000 non-null  object \n",
      " 4   Gender           10000 non-null  object \n",
      " 5   Age              10000 non-null  int64  \n",
      " 6   Tenure           9091 non-null   float64\n",
      " 7   Balance          10000 non-null  float64\n",
      " 8   NumOfProducts    10000 non-null  int64  \n",
      " 9   HasCrCard        10000 non-null  int64  \n",
      " 10  IsActiveMember   10000 non-null  int64  \n",
      " 11  EstimatedSalary  10000 non-null  float64\n",
      " 12  Exited           10000 non-null  int64  \n",
      "dtypes: float64(3), int64(8), object(2)\n",
      "memory usage: 1015.8+ KB\n"
     ]
    },
    {
     "data": {
      "text/plain": [
       "None"
      ]
     },
     "metadata": {},
     "output_type": "display_data"
    }
   ],
   "source": [
    "#drop 'surname' column\n",
    "df= df.drop(['Surname'], axis=1)\n",
    "display(df.info())"
   ]
  },
  {
   "cell_type": "code",
   "execution_count": 24,
   "metadata": {
    "trusted": true
   },
   "outputs": [
    {
     "name": "stdout",
     "output_type": "stream",
     "text": [
      "There are 0 duplicated rows in this data frame. As such, none need to be dropped at this time.\n"
     ]
    }
   ],
   "source": [
    "##check for duplicates and drop any that are found\n",
    "#make all letters lower case to find sneaky duplicates\n",
    "def convert_to_lower(df):\n",
    "    for column in df.columns:\n",
    "        if df[column].dtype == 'object':\n",
    "            if df[column].str.contains('[A-Z]').any():\n",
    "                df[column] = df[column].str.lower()\n",
    "    return df\n",
    "df = convert_to_lower(df)\n",
    "\n",
    "#check for duplicated rows\n",
    "df_duplicated = df.duplicated().sum()\n",
    "print(f\"There are {df_duplicated} duplicated rows in this data frame. As such, none need to be dropped at this time.\")"
   ]
  },
  {
   "cell_type": "code",
   "execution_count": 25,
   "metadata": {
    "trusted": true
   },
   "outputs": [
    {
     "name": "stdout",
     "output_type": "stream",
     "text": [
      "<class 'pandas.core.frame.DataFrame'>\n",
      "RangeIndex: 10000 entries, 0 to 9999\n",
      "Data columns (total 13 columns):\n",
      " #   Column           Non-Null Count  Dtype  \n",
      "---  ------           --------------  -----  \n",
      " 0   RowNumber        10000 non-null  int64  \n",
      " 1   CustomerId       10000 non-null  int64  \n",
      " 2   CreditScore      10000 non-null  int64  \n",
      " 3   Geography        10000 non-null  object \n",
      " 4   Gender           10000 non-null  object \n",
      " 5   Age              10000 non-null  int64  \n",
      " 6   Tenure           10000 non-null  float64\n",
      " 7   Balance          10000 non-null  float64\n",
      " 8   NumOfProducts    10000 non-null  int64  \n",
      " 9   HasCrCard        10000 non-null  int64  \n",
      " 10  IsActiveMember   10000 non-null  int64  \n",
      " 11  EstimatedSalary  10000 non-null  float64\n",
      " 12  Exited           10000 non-null  int64  \n",
      "dtypes: float64(3), int64(8), object(2)\n",
      "memory usage: 1015.8+ KB\n",
      "None\n"
     ]
    }
   ],
   "source": [
    "# replace missing Tenure values with median\n",
    "df['Tenure'].fillna(df['Tenure'].median(), inplace=True)\n",
    "print(df.info())"
   ]
  },
  {
   "cell_type": "code",
   "execution_count": 26,
   "metadata": {
    "trusted": true
   },
   "outputs": [
    {
     "name": "stdout",
     "output_type": "stream",
     "text": [
      "Index(['RowNumber', 'CustomerId', 'CreditScore', 'Age', 'Tenure', 'Balance',\n",
      "       'NumOfProducts', 'HasCrCard', 'IsActiveMember', 'EstimatedSalary',\n",
      "       'Exited', 'Geography_germany', 'Geography_spain', 'Gender_male'],\n",
      "      dtype='object')\n"
     ]
    }
   ],
   "source": [
    "#use ohe to encode geography and gender features\n",
    "df = pd.get_dummies(df, columns=['Geography', 'Gender'], drop_first=True)\n",
    "print(df.columns)"
   ]
  },
  {
   "cell_type": "code",
   "execution_count": 27,
   "metadata": {
    "trusted": true
   },
   "outputs": [
    {
     "name": "stdout",
     "output_type": "stream",
     "text": [
      "(6000, 13)\n",
      "(2000, 13)\n",
      "(2000, 13)\n"
     ]
    }
   ],
   "source": [
    "#define the features and target\n",
    "features = df.drop(['Exited'], axis=1)\n",
    "target = df['Exited']\n",
    "\n",
    "#split the data set using the train_test_split method first time (test and train)\n",
    "feature_train, feature_temp, target_train, target_temp = train_test_split(features, target, test_size=0.4, random_state=123)\n",
    "\n",
    "#split training set second time (training and validation)\n",
    "feature_val, feature_test, target_val, target_test = train_test_split(feature_temp, target_temp, test_size = 0.5, random_state = 123)\n",
    "\n",
    "print(feature_train.shape)\n",
    "print(feature_test.shape)\n",
    "print(feature_val.shape)"
   ]
  },
  {
   "cell_type": "markdown",
   "metadata": {},
   "source": [
    "## Build Model: Examine the balance of classes. Train the model without taking into account the imbalance. Briefly describe your findings."
   ]
  },
  {
   "cell_type": "markdown",
   "metadata": {},
   "source": [
    "## Model 1: Logistic Regression"
   ]
  },
  {
   "cell_type": "code",
   "execution_count": 28,
   "metadata": {
    "trusted": true
   },
   "outputs": [
    {
     "name": "stdout",
     "output_type": "stream",
     "text": [
      "F1 score for the unbalanced model for the validation set is: 0.0\n",
      "\n",
      "{'C': 1.0, 'class_weight': None, 'dual': False, 'fit_intercept': True, 'intercept_scaling': 1, 'l1_ratio': None, 'max_iter': 100, 'multi_class': 'auto', 'n_jobs': None, 'penalty': 'l2', 'random_state': 123, 'solver': 'lbfgs', 'tol': 0.0001, 'verbose': 0, 'warm_start': False}\n"
     ]
    }
   ],
   "source": [
    "#create and train model\n",
    "model= LogisticRegression(random_state = 123)\n",
    "model_1 = model.fit(feature_train, target_train)\n",
    "pred_val = model_1.predict(feature_val)\n",
    "score = f1_score(target_val, pred_val)\n",
    "print(f'F1 score for the unbalanced model for the validation set is: {score}')\n",
    "print()\n",
    "print(model.get_params(deep=True))"
   ]
  },
  {
   "cell_type": "code",
   "execution_count": 29,
   "metadata": {
    "trusted": true
   },
   "outputs": [
    {
     "name": "stdout",
     "output_type": "stream",
     "text": [
      "AUC-ROC score for the validation set: 0.5480495097698352\n"
     ]
    },
    {
     "data": {
      "image/png": "[encoded data removed]",
      "text/plain": [
       "<Figure size 640x480 with 1 Axes>"
      ]
     },
     "metadata": {},
     "output_type": "display_data"
    }
   ],
   "source": [
    "#calculate AUC-ROC for imbalanced model\n",
    "y_prob_val = model_1.predict_proba(feature_val)[:, 1]\n",
    "auc_score = roc_auc_score(target_val, y_prob_val)\n",
    "print(f\"AUC-ROC score for the validation set: {auc_score}\")\n",
    "\n",
    "fpr, tpr, _ = metrics.roc_curve(target_val,  y_prob_val)\n",
    "plt.plot(fpr,tpr,label=\"Data 1, auc=\"+str(auc_score))\n",
    "plt.plot([0, 1], [0, 1], color='gray', linestyle='--', label='Random Guessing (AUC = 0.5)')\n",
    "plt.legend(loc=4)\n",
    "plt.title('AUC-ROC Curve for Validation Data' )\n",
    "plt.xlabel('FPR')\n",
    "plt.ylabel('TPR')\n",
    "plt.show()"
   ]
  },
  {
   "cell_type": "markdown",
   "metadata": {},
   "source": [
    "A logistic regression has been chosen as a model type for this project. This is because the target is either a 0 (stayed) or a 1 (left) making it a binary categorical target. Because this model has high speed, it should be able to handle the encoded data well.\n",
    "\n",
    "Without taking into account the class imbalance, even when hyperparameters are optimized, the F1 threshold of 0.59 is not able to be reached. Presumably the heavy class imbalance is causing the F1 score to actually be 0.0.\n",
    "\n",
    "The model also has a poor AUC-ROC score of 0.55, indicating that it does not predict positive values much better than a random model. \n",
    "\n",
    "With this information, it does not make sense to move forward in model testing without reworking the model to compensate for class imbalances."
   ]
  },
  {
   "cell_type": "markdown",
   "metadata": {},
   "source": [
    "## Model 2: RandomForestClassifier"
   ]
  },
  {
   "cell_type": "code",
   "execution_count": 30,
   "metadata": {
    "trusted": true
   },
   "outputs": [
    {
     "name": "stdout",
     "output_type": "stream",
     "text": [
      "F1 score for the unbalanced model for the validation set is: 0.5560975609756098\n",
      "\n",
      "{'bootstrap': True, 'ccp_alpha': 0.0, 'class_weight': None, 'criterion': 'gini', 'max_depth': None, 'max_features': 'auto', 'max_leaf_nodes': None, 'max_samples': None, 'min_impurity_decrease': 0.0, 'min_impurity_split': None, 'min_samples_leaf': 1, 'min_samples_split': 2, 'min_weight_fraction_leaf': 0.0, 'n_estimators': 100, 'n_jobs': None, 'oob_score': False, 'random_state': 123, 'verbose': 0, 'warm_start': False}\n"
     ]
    }
   ],
   "source": [
    "#create model and tune hyperparameters using griddearchCV\n",
    "\n",
    "model = RandomForestClassifier(random_state=123)\n",
    "\n",
    "#hyperparameter grid\n",
    "param_grid = {'n_estimators': [1, 100], 'max_depth': [1, 50, None]}\n",
    "grid_search = GridSearchCV(model, param_grid, cv=5)\n",
    "grid_search.fit(feature_train, target_train)\n",
    "\n",
    "#use GridSearch to find optimal parameters\n",
    "best_model_1 = grid_search.best_estimator_\n",
    "best_model_1.fit(feature_train, target_train)\n",
    "\n",
    "\n",
    "pred_val = best_model_1.predict(feature_val)\n",
    "score = f1_score(target_val, pred_val)\n",
    "print(f'F1 score for the unbalanced model for the validation set is: {score}')\n",
    "print()\n",
    "print(model.get_params(deep=True))"
   ]
  },
  {
   "cell_type": "code",
   "execution_count": 31,
   "metadata": {
    "trusted": true
   },
   "outputs": [
    {
     "name": "stdout",
     "output_type": "stream",
     "text": [
      "AUC-ROC score for the validation set: 0.8559431320365887\n"
     ]
    },
    {
     "data": {
      "image/png": "[encoded data removed]",
      "text/plain": [
       "<Figure size 640x480 with 1 Axes>"
      ]
     },
     "metadata": {},
     "output_type": "display_data"
    }
   ],
   "source": [
    "#calculate AUC-ROC for imbalanced model\n",
    "y_prob_val = best_model_1.predict_proba(feature_val)[:, 1]\n",
    "auc_score = roc_auc_score(target_val, y_prob_val)\n",
    "print(f\"AUC-ROC score for the validation set: {auc_score}\")\n",
    "\n",
    "fpr, tpr, _ = metrics.roc_curve(target_val,  y_prob_val)\n",
    "plt.plot(fpr,tpr,label=\"Data 1, auc=\"+str(auc_score))\n",
    "plt.plot([0, 1], [0, 1], color='gray', linestyle='--', label='Random Guessing (AUC = 0.5)')\n",
    "plt.legend(loc=4)\n",
    "plt.title('AUC-ROC Curve for Validation Data' )\n",
    "plt.xlabel('FPR')\n",
    "plt.ylabel('TPR')\n",
    "plt.show()"
   ]
  },
  {
   "cell_type": "markdown",
   "metadata": {},
   "source": [
    "The RandomForestClassifier model performs better than the logistic regression model even before balancing the classes. The F1 score is higher than that of the logistic regression model at 0.55, however it does not meet project standards. The AUC-ROC score is much higher showing that the model performed better than a random guessing model, yet given all of the information that is given here, class imbalance is still impacting model performance."
   ]
  },
  {
   "cell_type": "markdown",
   "metadata": {},
   "source": [
    "## Improve the quality of the model. Make sure you use at least two approaches to fixing class imbalance. Use the training set to pick the best parameters. Train different models on training and validation sets. Find the best one. Briefly describe your findings."
   ]
  },
  {
   "cell_type": "markdown",
   "metadata": {},
   "source": [
    "In order to compensate for class imbalance, the unsampling method will be implemented. This will increase instances of the minority class to help the model make predictions more accurately. the class weight parameter will also be set to balanced, giving rare classes higher weight in the model."
   ]
  },
  {
   "cell_type": "markdown",
   "metadata": {},
   "source": [
    "Method 1: Unsample Training Set"
   ]
  },
  {
   "cell_type": "code",
   "execution_count": 32,
   "metadata": {
    "trusted": true
   },
   "outputs": [
    {
     "name": "stdout",
     "output_type": "stream",
     "text": [
      "(9522, 13)\n",
      "(6000, 13)\n"
     ]
    },
    {
     "name": "stderr",
     "output_type": "stream",
     "text": [
      "/tmp/ipykernel_184/1575973.py:5: UserWarning: Boolean Series key will be reindexed to match DataFrame index.\n",
      "  majority_class = train_df[df['Exited'] == train_df['Exited'].value_counts().idxmax()]\n",
      "/tmp/ipykernel_184/1575973.py:6: UserWarning: Boolean Series key will be reindexed to match DataFrame index.\n",
      "  minority_class = train_df[df['Exited'] == train_df['Exited'].value_counts().idxmin()]\n"
     ]
    }
   ],
   "source": [
    "#rejoin training set to make unsampling possible\n",
    "train_df = pd.concat([feature_train, target_train], axis=1)\n",
    "\n",
    "#split data in minority and majority classes\n",
    "majority_class = train_df[df['Exited'] == train_df['Exited'].value_counts().idxmax()]\n",
    "minority_class = train_df[df['Exited'] == train_df['Exited'].value_counts().idxmin()]\n",
    "\n",
    "#increase instances of minority class\n",
    "minority_class_oversampled = minority_class.sample(n=len(majority_class), replace=True, random_state=123)\n",
    "\n",
    "#join data together\n",
    "df_resampled = pd.concat([majority_class, minority_class_oversampled])\n",
    "\n",
    "#shuffle data\n",
    "df_resampled = shuffle(df_resampled, random_state=123)\n",
    "\n",
    "#split the resampled data\n",
    "feature_train_unsampled = df_resampled.drop(columns='Exited')\n",
    "target_train_unsampled = df_resampled['Exited']\n",
    "\n",
    "print(feature_train_unsampled.shape)\n",
    "print(feature_train.shape)"
   ]
  },
  {
   "cell_type": "markdown",
   "metadata": {},
   "source": [
    "Method 2: Balance Class-Weight"
   ]
  },
  {
   "cell_type": "markdown",
   "metadata": {},
   "source": [
    "## Model 1: Logistic Regression Training on Unsampled Data"
   ]
  },
  {
   "cell_type": "code",
   "execution_count": 33,
   "metadata": {
    "trusted": true
   },
   "outputs": [
    {
     "name": "stdout",
     "output_type": "stream",
     "text": [
      "F1 score for the balanced model for the validation set is: 0.33463541666666663\n",
      "\n",
      "{'C': 1.0, 'class_weight': 'balanced', 'dual': False, 'fit_intercept': True, 'intercept_scaling': 1, 'l1_ratio': None, 'max_iter': 100, 'multi_class': 'auto', 'n_jobs': None, 'penalty': 'l2', 'random_state': 123, 'solver': 'lbfgs', 'tol': 0.0001, 'verbose': 0, 'warm_start': False}\n"
     ]
    }
   ],
   "source": [
    "#create and train model\n",
    "model= LogisticRegression(random_state = 123, class_weight = 'balanced')\n",
    "model_1 = model.fit(feature_train_unsampled, target_train_unsampled)\n",
    "pred_val = model_1.predict(feature_val)\n",
    "score = f1_score(target_val, pred_val)\n",
    "print(f'F1 score for the balanced model for the validation set is: {score}')\n",
    "print()\n",
    "print(model.get_params(deep=True))"
   ]
  },
  {
   "cell_type": "code",
   "execution_count": 34,
   "metadata": {
    "trusted": true
   },
   "outputs": [
    {
     "name": "stdout",
     "output_type": "stream",
     "text": [
      "AUC-ROC score for the validation set: 0.5486295048390869\n"
     ]
    },
    {
     "data": {
      "image/png": "[encoded data removed]",
      "text/plain": [
       "<Figure size 640x480 with 1 Axes>"
      ]
     },
     "metadata": {},
     "output_type": "display_data"
    }
   ],
   "source": [
    "#calculate AUC-ROC for balanced model\n",
    "y_prob_val = model_1.predict_proba(feature_val)[:, 1]\n",
    "auc_score = roc_auc_score(target_val, y_prob_val)\n",
    "print(f\"AUC-ROC score for the validation set: {auc_score}\")\n",
    "\n",
    "fpr, tpr, _ = metrics.roc_curve(target_val,  y_prob_val)\n",
    "plt.plot(fpr,tpr,label=\"Data 1, auc=\"+str(auc_score))\n",
    "plt.plot([0, 1], [0, 1], color='gray', linestyle='--', label='Random Guessing (AUC = 0.5)')\n",
    "plt.legend(loc=4)\n",
    "plt.title('AUC-ROC Curve for Validation Data' )\n",
    "plt.xlabel('FPR')\n",
    "plt.ylabel('TPR')\n",
    "plt.show()"
   ]
  },
  {
   "cell_type": "markdown",
   "metadata": {},
   "source": [
    "Using these methods we see an increase in the F1 score, however it is still not meeting the necessary threshold of 0.59. The model also has a poor AUC-ROC score of 0.55, indicating that it does not predict positive values much better than a random model."
   ]
  },
  {
   "cell_type": "markdown",
   "metadata": {},
   "source": [
    "## Model 2: RandomForestClassifier"
   ]
  },
  {
   "cell_type": "code",
   "execution_count": 35,
   "metadata": {
    "trusted": true
   },
   "outputs": [
    {
     "name": "stdout",
     "output_type": "stream",
     "text": [
      "F1 score for the balanced model for the validation set is: 0.5979680696661829\n",
      "\n",
      "{'bootstrap': True, 'ccp_alpha': 0.0, 'class_weight': 'balanced', 'criterion': 'gini', 'max_depth': None, 'max_features': 'auto', 'max_leaf_nodes': None, 'max_samples': None, 'min_impurity_decrease': 0.0, 'min_impurity_split': None, 'min_samples_leaf': 1, 'min_samples_split': 2, 'min_weight_fraction_leaf': 0.0, 'n_estimators': 100, 'n_jobs': None, 'oob_score': False, 'random_state': 123, 'verbose': 0, 'warm_start': False}\n"
     ]
    }
   ],
   "source": [
    "#create and train model\n",
    "model= RandomForestClassifier(random_state = 123, class_weight = 'balanced')\n",
    "model_2 = model.fit(feature_train_unsampled, target_train_unsampled)\n",
    "pred_val = model_2.predict(feature_val)\n",
    "score = f1_score(target_val, pred_val)\n",
    "print(f'F1 score for the balanced model for the validation set is: {score}')\n",
    "print()\n",
    "print(model.get_params(deep=True))"
   ]
  },
  {
   "cell_type": "code",
   "execution_count": 36,
   "metadata": {
    "trusted": true
   },
   "outputs": [
    {
     "name": "stdout",
     "output_type": "stream",
     "text": [
      "AUC-ROC score for the validation set: 0.8609766042315936\n"
     ]
    },
    {
     "data": {
      "image/png": "[encoded data removed]",
      "text/plain": [
       "<Figure size 640x480 with 1 Axes>"
      ]
     },
     "metadata": {},
     "output_type": "display_data"
    }
   ],
   "source": [
    "#calculate AUC-ROC for balanced model\n",
    "y_prob_val = model_2.predict_proba(feature_val)[:, 1]\n",
    "auc_score = roc_auc_score(target_val, y_prob_val)\n",
    "print(f\"AUC-ROC score for the validation set: {auc_score}\")\n",
    "\n",
    "fpr, tpr, _ = metrics.roc_curve(target_val,  y_prob_val)\n",
    "plt.plot(fpr,tpr,label=\"Data 1, auc=\"+str(auc_score))\n",
    "plt.plot([0, 1], [0, 1], color='gray', linestyle='--', label='Random Guessing (AUC = 0.5)')\n",
    "plt.legend(loc=4)\n",
    "plt.title('AUC-ROC Curve for Validation Data' )\n",
    "plt.xlabel('FPR')\n",
    "plt.ylabel('TPR')\n",
    "plt.show()"
   ]
  },
  {
   "cell_type": "markdown",
   "metadata": {},
   "source": [
    "The Random Forest Classifier model does meet the criteria necessary to move forward with the model because the F1 score is higher than 0.59. However hyperparameters will be tuned using the validation set to see if this score can be further increased. The AUC-ROC score is also performing at an acceptable level, showing that the model is better are predicting the correct target than random guessing. "
   ]
  },
  {
   "cell_type": "code",
   "execution_count": 37,
   "metadata": {
    "trusted": true
   },
   "outputs": [
    {
     "name": "stdout",
     "output_type": "stream",
     "text": [
      "F1 score for the balanced model for the validation set is: 0.5979680696661829\n"
     ]
    }
   ],
   "source": [
    "#tune hyperparameters using gridsearchCV \n",
    "model_2 = RandomForestClassifier(random_state = 123, class_weight = 'balanced')\n",
    "\n",
    "#hyperparameter grid\n",
    "param_grid = {'n_estimators': [1, 100], 'max_depth': [1, 50, None]}\n",
    "grid_search = GridSearchCV(model_2, param_grid, cv=5)\n",
    "grid_search.fit(feature_train_unsampled, target_train_unsampled)\n",
    "\n",
    "#use GridSearch to find optimal parameters\n",
    "best_model = grid_search.best_estimator_\n",
    "best_model.fit(feature_train_unsampled, target_train_unsampled)\n",
    "\n",
    "#evaluate on the validation set\n",
    "pred_val = best_model.predict(feature_val)\n",
    "score = f1_score(target_val, pred_val)\n",
    "print(f'F1 score for the balanced model for the validation set is: {score}')\n"
   ]
  },
  {
   "cell_type": "code",
   "execution_count": 38,
   "metadata": {
    "trusted": true
   },
   "outputs": [
    {
     "name": "stdout",
     "output_type": "stream",
     "text": [
      "AUC-ROC score for the validation set: 0.8609766042315936\n"
     ]
    },
    {
     "data": {
      "image/png": "[encoded data removed]",
      "text/plain": [
       "<Figure size 640x480 with 1 Axes>"
      ]
     },
     "metadata": {},
     "output_type": "display_data"
    }
   ],
   "source": [
    "#calculate AUC-ROC for balanced model\n",
    "y_prob_val = best_model.predict_proba(feature_val)[:, 1]\n",
    "auc_score = roc_auc_score(target_val, y_prob_val)\n",
    "print(f\"AUC-ROC score for the validation set: {auc_score}\")\n",
    "\n",
    "fpr, tpr, _ = metrics.roc_curve(target_val,  y_prob_val)\n",
    "plt.plot(fpr,tpr,label=\"Data 1, auc=\"+str(auc_score))\n",
    "plt.plot([0, 1], [0, 1], color='gray', linestyle='--', label='Random Guessing (AUC = 0.5)')\n",
    "plt.legend(loc=4)\n",
    "plt.title('AUC-ROC Curve for Validation Data' )\n",
    "plt.xlabel('FPR')\n",
    "plt.ylabel('TPR')\n",
    "plt.show()"
   ]
  },
  {
   "cell_type": "markdown",
   "metadata": {},
   "source": [
    "The best model found in this instance is a RandomForestClassifier when the class weight is balanced and trained on unsampled data. The F1 score of 0.598 meets projects criteria and the AUC-ROC score of 0.860 indicates acceptable model performance and that performs better than random guessing models. "
   ]
  },
  {
   "cell_type": "markdown",
   "metadata": {},
   "source": [
    "## Perform the final testing (test set)"
   ]
  },
  {
   "cell_type": "code",
   "execution_count": 39,
   "metadata": {
    "trusted": true
   },
   "outputs": [
    {
     "name": "stdout",
     "output_type": "stream",
     "text": [
      "F1 score for the balanced model for the validation set is: 0.6171428571428571\n"
     ]
    }
   ],
   "source": [
    "#use model on test data set\n",
    "test_pred = best_model.predict(feature_test)\n",
    "score = f1_score(target_test, test_pred)\n",
    "print(f'F1 score for the balanced model for the validation set is: {score}')"
   ]
  },
  {
   "cell_type": "code",
   "execution_count": 40,
   "metadata": {
    "trusted": true
   },
   "outputs": [
    {
     "name": "stdout",
     "output_type": "stream",
     "text": [
      "AUC-ROC score for the test set: 0.8565907342613962\n"
     ]
    },
    {
     "data": {
      "image/png": "[encoded data removed]",
      "text/plain": [
       "<Figure size 640x480 with 1 Axes>"
      ]
     },
     "metadata": {},
     "output_type": "display_data"
    }
   ],
   "source": [
    "#calculate AUC-ROC for balanced model\n",
    "y_prob_test = best_model.predict_proba(feature_test)[:, 1]\n",
    "auc_score = roc_auc_score(target_test, y_prob_test)\n",
    "print(f\"AUC-ROC score for the test set: {auc_score}\")\n",
    "\n",
    "fpr, tpr, _ = metrics.roc_curve(target_test,  y_prob_test)\n",
    "plt.plot(fpr,tpr,label=\"Data 1, auc=\"+str(auc_score))\n",
    "plt.plot([0, 1], [0, 1], color='gray', linestyle='--', label='Random Guessing (AUC = 0.5)')\n",
    "plt.legend(loc=4)\n",
    "plt.title('AUC-ROC Curve for Test Data' )\n",
    "plt.xlabel('FPR')\n",
    "plt.ylabel('TPR')\n",
    "plt.show()"
   ]
  },
  {
   "cell_type": "markdown",
   "metadata": {},
   "source": [
    "The RandomForestClassifier Model does meet model requirements when applied to the test data set. This indicates that the model will be able to predict if bank customers are going to leave the Beta Bank in a satisfactory manner."
   ]
  },
  {
   "cell_type": "markdown",
   "metadata": {},
   "source": [
    "## Conclusion"
   ]
  },
  {
   "cell_type": "markdown",
   "metadata": {},
   "source": [
    "Overall, the model that best predicted if customers would leave the Beta Bank was a RandomForestClassifier model that was trained on unsampled data and balanced the class weights. While unsampling data can run the risk for overfitting data, the model met project standards when applied to a test data set. The model could be improved by testing it across further data sets to ensure that it is functioning well in other real world scenarios. "
   ]
  }
 ],
 "metadata": {
  "ExecuteTimeLog": [
   {
    "duration": 167,
    "start_time": "2025-03-14T17:13:59.909Z"
   },
   {
    "duration": 359,
    "start_time": "2025-03-14T17:14:05.029Z"
   },
   {
    "duration": 36,
    "start_time": "2025-03-14T17:14:05.789Z"
   },
   {
    "duration": 22,
    "start_time": "2025-03-14T17:15:41.282Z"
   },
   {
    "duration": 25,
    "start_time": "2025-03-14T17:15:47.836Z"
   },
   {
    "duration": 35,
    "start_time": "2025-03-14T17:16:56.734Z"
   },
   {
    "duration": 3,
    "start_time": "2025-03-14T17:17:11.662Z"
   },
   {
    "duration": 3,
    "start_time": "2025-03-14T17:17:36.482Z"
   },
   {
    "duration": 13,
    "start_time": "2025-03-14T17:17:41.917Z"
   },
   {
    "duration": 30,
    "start_time": "2025-03-14T17:35:51.171Z"
   },
   {
    "duration": 13,
    "start_time": "2025-03-14T18:20:50.175Z"
   },
   {
    "duration": 757,
    "start_time": "2025-03-14T18:21:00.664Z"
   },
   {
    "duration": 15,
    "start_time": "2025-03-14T18:21:25.050Z"
   },
   {
    "duration": 35,
    "start_time": "2025-03-14T18:24:25.806Z"
   },
   {
    "duration": 20,
    "start_time": "2025-03-14T18:25:04.992Z"
   },
   {
    "duration": 7,
    "start_time": "2025-03-14T18:26:05.010Z"
   },
   {
    "duration": 14,
    "start_time": "2025-03-14T18:26:13.065Z"
   },
   {
    "duration": 288,
    "start_time": "2025-03-14T18:47:27.677Z"
   },
   {
    "duration": 43,
    "start_time": "2025-03-14T18:47:27.968Z"
   },
   {
    "duration": 17,
    "start_time": "2025-03-14T18:47:28.016Z"
   },
   {
    "duration": 30,
    "start_time": "2025-03-14T18:47:28.035Z"
   },
   {
    "duration": 715,
    "start_time": "2025-03-14T18:47:28.088Z"
   },
   {
    "duration": 0,
    "start_time": "2025-03-14T18:47:28.805Z"
   },
   {
    "duration": 4,
    "start_time": "2025-03-14T18:47:48.580Z"
   },
   {
    "duration": 13,
    "start_time": "2025-03-14T18:47:57.172Z"
   },
   {
    "duration": 14,
    "start_time": "2025-03-14T18:48:06.924Z"
   },
   {
    "duration": 13,
    "start_time": "2025-03-14T18:49:20.478Z"
   },
   {
    "duration": 13,
    "start_time": "2025-03-14T18:49:31.402Z"
   },
   {
    "duration": 3,
    "start_time": "2025-03-14T18:49:36.920Z"
   },
   {
    "duration": 35,
    "start_time": "2025-03-14T18:49:37.856Z"
   },
   {
    "duration": 11,
    "start_time": "2025-03-14T18:49:39.297Z"
   },
   {
    "duration": 21,
    "start_time": "2025-03-14T18:49:40.001Z"
   },
   {
    "duration": 9,
    "start_time": "2025-03-14T18:49:40.869Z"
   },
   {
    "duration": 41,
    "start_time": "2025-03-14T18:50:15.093Z"
   },
   {
    "duration": 39,
    "start_time": "2025-03-14T18:50:27.866Z"
   },
   {
    "duration": 4,
    "start_time": "2025-03-14T18:50:37.427Z"
   },
   {
    "duration": 12,
    "start_time": "2025-03-14T18:50:44.249Z"
   },
   {
    "duration": 12,
    "start_time": "2025-03-14T18:51:02.696Z"
   },
   {
    "duration": 279,
    "start_time": "2025-03-14T18:51:13.080Z"
   },
   {
    "duration": 41,
    "start_time": "2025-03-14T18:51:13.361Z"
   },
   {
    "duration": 12,
    "start_time": "2025-03-14T18:51:13.403Z"
   },
   {
    "duration": 19,
    "start_time": "2025-03-14T18:51:13.416Z"
   },
   {
    "duration": 2,
    "start_time": "2025-03-14T18:51:13.437Z"
   },
   {
    "duration": 1124,
    "start_time": "2025-03-14T18:51:13.440Z"
   },
   {
    "duration": 3,
    "start_time": "2025-03-14T18:51:58.594Z"
   },
   {
    "duration": 3,
    "start_time": "2025-03-14T18:52:18.165Z"
   },
   {
    "duration": 4,
    "start_time": "2025-03-14T18:55:11.274Z"
   },
   {
    "duration": 12,
    "start_time": "2025-03-14T18:55:26.293Z"
   },
   {
    "duration": 11,
    "start_time": "2025-03-14T18:55:44.420Z"
   },
   {
    "duration": 12,
    "start_time": "2025-03-14T18:56:05.267Z"
   },
   {
    "duration": 10,
    "start_time": "2025-03-14T18:56:23.380Z"
   },
   {
    "duration": 280,
    "start_time": "2025-03-14T18:56:33.267Z"
   },
   {
    "duration": 44,
    "start_time": "2025-03-14T18:56:33.549Z"
   },
   {
    "duration": 13,
    "start_time": "2025-03-14T18:56:33.595Z"
   },
   {
    "duration": 18,
    "start_time": "2025-03-14T18:56:33.610Z"
   },
   {
    "duration": 2,
    "start_time": "2025-03-14T18:56:33.631Z"
   },
   {
    "duration": 874,
    "start_time": "2025-03-14T18:56:33.635Z"
   },
   {
    "duration": 9,
    "start_time": "2025-03-14T18:57:17.103Z"
   },
   {
    "duration": 13,
    "start_time": "2025-03-14T19:00:53.200Z"
   },
   {
    "duration": 16,
    "start_time": "2025-03-14T19:03:47.558Z"
   },
   {
    "duration": 229,
    "start_time": "2025-03-14T19:04:09.449Z"
   },
   {
    "duration": 39,
    "start_time": "2025-03-14T19:04:19.169Z"
   },
   {
    "duration": 43,
    "start_time": "2025-03-14T19:04:23.654Z"
   },
   {
    "duration": 39,
    "start_time": "2025-03-14T19:04:41.383Z"
   },
   {
    "duration": 276,
    "start_time": "2025-03-14T19:04:51.255Z"
   },
   {
    "duration": 33,
    "start_time": "2025-03-14T19:04:51.533Z"
   },
   {
    "duration": 24,
    "start_time": "2025-03-14T19:04:51.568Z"
   },
   {
    "duration": 19,
    "start_time": "2025-03-14T19:04:51.593Z"
   },
   {
    "duration": 8,
    "start_time": "2025-03-14T19:04:51.615Z"
   },
   {
    "duration": 7,
    "start_time": "2025-03-14T19:04:51.625Z"
   },
   {
    "duration": 843,
    "start_time": "2025-03-14T19:04:51.633Z"
   },
   {
    "duration": 163,
    "start_time": "2025-03-14T19:05:10.633Z"
   },
   {
    "duration": 42,
    "start_time": "2025-03-14T19:08:13.729Z"
   },
   {
    "duration": 3,
    "start_time": "2025-03-14T19:09:07.738Z"
   },
   {
    "duration": 330,
    "start_time": "2025-03-14T19:09:35.314Z"
   },
   {
    "duration": 41,
    "start_time": "2025-03-14T19:09:35.646Z"
   },
   {
    "duration": 11,
    "start_time": "2025-03-14T19:09:35.689Z"
   },
   {
    "duration": 19,
    "start_time": "2025-03-14T19:09:35.703Z"
   },
   {
    "duration": 9,
    "start_time": "2025-03-14T19:09:35.723Z"
   },
   {
    "duration": 3,
    "start_time": "2025-03-14T19:09:35.733Z"
   },
   {
    "duration": 7,
    "start_time": "2025-03-14T19:09:35.738Z"
   },
   {
    "duration": 837,
    "start_time": "2025-03-14T19:09:35.747Z"
   },
   {
    "duration": 8,
    "start_time": "2025-03-14T19:09:59.364Z"
   },
   {
    "duration": 8,
    "start_time": "2025-03-14T19:10:16.440Z"
   },
   {
    "duration": 10,
    "start_time": "2025-03-14T19:10:46.552Z"
   },
   {
    "duration": 16,
    "start_time": "2025-03-14T19:12:40.520Z"
   },
   {
    "duration": 787,
    "start_time": "2025-03-14T19:13:29.209Z"
   },
   {
    "duration": 34,
    "start_time": "2025-03-14T19:13:29.998Z"
   },
   {
    "duration": 11,
    "start_time": "2025-03-14T19:13:30.033Z"
   },
   {
    "duration": 19,
    "start_time": "2025-03-14T19:13:30.046Z"
   },
   {
    "duration": 29,
    "start_time": "2025-03-14T19:13:30.067Z"
   },
   {
    "duration": 8,
    "start_time": "2025-03-14T19:13:30.097Z"
   },
   {
    "duration": 8,
    "start_time": "2025-03-14T19:13:30.106Z"
   },
   {
    "duration": 10,
    "start_time": "2025-03-14T19:14:00.615Z"
   },
   {
    "duration": 9,
    "start_time": "2025-03-14T19:14:26.149Z"
   },
   {
    "duration": 787,
    "start_time": "2025-03-19T16:58:01.972Z"
   },
   {
    "duration": 2,
    "start_time": "2025-03-19T16:58:06.986Z"
   },
   {
    "duration": 52,
    "start_time": "2025-03-19T16:58:07.388Z"
   },
   {
    "duration": 13,
    "start_time": "2025-03-19T16:58:08.400Z"
   },
   {
    "duration": 19,
    "start_time": "2025-03-19T16:58:08.905Z"
   },
   {
    "duration": 10,
    "start_time": "2025-03-19T16:58:09.457Z"
   },
   {
    "duration": 8,
    "start_time": "2025-03-19T16:58:10.004Z"
   },
   {
    "duration": 8,
    "start_time": "2025-03-19T16:58:10.535Z"
   },
   {
    "duration": 31571,
    "start_time": "2025-03-19T16:58:35.864Z"
   },
   {
    "duration": 8902,
    "start_time": "2025-03-19T16:59:32.225Z"
   },
   {
    "duration": 7860,
    "start_time": "2025-03-19T17:01:04.011Z"
   },
   {
    "duration": 7913,
    "start_time": "2025-03-19T17:01:17.011Z"
   },
   {
    "duration": 223,
    "start_time": "2025-03-19T17:01:38.805Z"
   },
   {
    "duration": 3,
    "start_time": "2025-03-19T17:03:52.929Z"
   },
   {
    "duration": 31257,
    "start_time": "2025-03-19T17:05:06.347Z"
   },
   {
    "duration": 8537,
    "start_time": "2025-03-19T17:07:23.742Z"
   },
   {
    "duration": 8652,
    "start_time": "2025-03-19T17:07:45.715Z"
   },
   {
    "duration": 7793,
    "start_time": "2025-03-19T17:09:25.132Z"
   },
   {
    "duration": 14,
    "start_time": "2025-03-19T17:10:05.052Z"
   },
   {
    "duration": 8053,
    "start_time": "2025-03-19T17:23:06.445Z"
   },
   {
    "duration": 22,
    "start_time": "2025-03-19T17:32:49.908Z"
   },
   {
    "duration": 15,
    "start_time": "2025-03-19T17:33:08.583Z"
   },
   {
    "duration": 816,
    "start_time": "2025-03-19T18:59:01.643Z"
   },
   {
    "duration": 40,
    "start_time": "2025-03-19T18:59:02.461Z"
   },
   {
    "duration": 11,
    "start_time": "2025-03-19T18:59:02.502Z"
   },
   {
    "duration": 18,
    "start_time": "2025-03-19T18:59:02.523Z"
   },
   {
    "duration": 9,
    "start_time": "2025-03-19T18:59:02.543Z"
   },
   {
    "duration": 8,
    "start_time": "2025-03-19T18:59:02.554Z"
   },
   {
    "duration": 8,
    "start_time": "2025-03-19T18:59:02.564Z"
   },
   {
    "duration": 31472,
    "start_time": "2025-03-19T18:59:02.574Z"
   },
   {
    "duration": 6,
    "start_time": "2025-03-19T18:59:34.048Z"
   },
   {
    "duration": 0,
    "start_time": "2025-03-19T18:59:34.055Z"
   },
   {
    "duration": 8683,
    "start_time": "2025-03-19T19:00:27.567Z"
   },
   {
    "duration": 8521,
    "start_time": "2025-03-19T19:00:41.692Z"
   },
   {
    "duration": 16,
    "start_time": "2025-03-19T19:01:07.889Z"
   },
   {
    "duration": 3,
    "start_time": "2025-03-19T19:11:10.871Z"
   },
   {
    "duration": 3,
    "start_time": "2025-03-19T19:12:32.154Z"
   },
   {
    "duration": 38,
    "start_time": "2025-03-19T19:15:30.889Z"
   },
   {
    "duration": 749,
    "start_time": "2025-03-19T19:16:31.388Z"
   },
   {
    "duration": 43,
    "start_time": "2025-03-19T19:16:32.139Z"
   },
   {
    "duration": 10,
    "start_time": "2025-03-19T19:16:32.185Z"
   },
   {
    "duration": 27,
    "start_time": "2025-03-19T19:16:32.197Z"
   },
   {
    "duration": 9,
    "start_time": "2025-03-19T19:16:32.226Z"
   },
   {
    "duration": 8,
    "start_time": "2025-03-19T19:16:32.237Z"
   },
   {
    "duration": 7,
    "start_time": "2025-03-19T19:16:32.247Z"
   },
   {
    "duration": 83,
    "start_time": "2025-03-19T19:16:32.257Z"
   },
   {
    "duration": 2,
    "start_time": "2025-03-19T19:16:32.343Z"
   },
   {
    "duration": 378,
    "start_time": "2025-03-19T19:19:22.475Z"
   },
   {
    "duration": 278,
    "start_time": "2025-03-19T19:20:33.177Z"
   },
   {
    "duration": 60,
    "start_time": "2025-03-19T19:21:03.884Z"
   },
   {
    "duration": 778,
    "start_time": "2025-03-19T19:21:22.162Z"
   },
   {
    "duration": 38,
    "start_time": "2025-03-19T19:21:22.943Z"
   },
   {
    "duration": 11,
    "start_time": "2025-03-19T19:21:22.985Z"
   },
   {
    "duration": 38,
    "start_time": "2025-03-19T19:21:22.998Z"
   },
   {
    "duration": 10,
    "start_time": "2025-03-19T19:21:23.038Z"
   },
   {
    "duration": 8,
    "start_time": "2025-03-19T19:21:23.050Z"
   },
   {
    "duration": 8,
    "start_time": "2025-03-19T19:21:23.060Z"
   },
   {
    "duration": 74,
    "start_time": "2025-03-19T19:21:23.070Z"
   },
   {
    "duration": 3,
    "start_time": "2025-03-19T19:21:23.145Z"
   },
   {
    "duration": 353,
    "start_time": "2025-03-19T19:45:27.593Z"
   },
   {
    "duration": 3,
    "start_time": "2025-03-19T19:49:24.316Z"
   },
   {
    "duration": 14,
    "start_time": "2025-03-19T19:49:30.250Z"
   },
   {
    "duration": 22,
    "start_time": "2025-03-19T20:31:01.278Z"
   },
   {
    "duration": 23,
    "start_time": "2025-03-19T20:33:26.056Z"
   },
   {
    "duration": 4,
    "start_time": "2025-03-19T20:33:33.615Z"
   },
   {
    "duration": 7,
    "start_time": "2025-03-19T20:57:21.555Z"
   },
   {
    "duration": 77,
    "start_time": "2025-03-19T20:58:12.049Z"
   },
   {
    "duration": 8,
    "start_time": "2025-03-19T20:58:47.487Z"
   },
   {
    "duration": 9,
    "start_time": "2025-03-19T21:01:12.910Z"
   },
   {
    "duration": 4,
    "start_time": "2025-03-19T21:01:25.928Z"
   },
   {
    "duration": 9,
    "start_time": "2025-03-19T21:01:33.529Z"
   },
   {
    "duration": 12,
    "start_time": "2025-03-19T21:02:30.995Z"
   },
   {
    "duration": 173,
    "start_time": "2025-03-20T02:57:57.676Z"
   },
   {
    "duration": 784,
    "start_time": "2025-03-20T02:58:36.592Z"
   },
   {
    "duration": 48,
    "start_time": "2025-03-20T02:58:37.378Z"
   },
   {
    "duration": 12,
    "start_time": "2025-03-20T02:58:37.428Z"
   },
   {
    "duration": 19,
    "start_time": "2025-03-20T02:58:37.441Z"
   },
   {
    "duration": 12,
    "start_time": "2025-03-20T02:58:37.464Z"
   },
   {
    "duration": 35,
    "start_time": "2025-03-20T02:58:37.478Z"
   },
   {
    "duration": 10,
    "start_time": "2025-03-20T02:58:37.515Z"
   },
   {
    "duration": 112,
    "start_time": "2025-03-20T02:58:37.527Z"
   },
   {
    "duration": 14,
    "start_time": "2025-03-20T02:58:37.710Z"
   },
   {
    "duration": 84,
    "start_time": "2025-03-20T02:58:37.725Z"
   },
   {
    "duration": 295,
    "start_time": "2025-03-20T02:58:37.811Z"
   },
   {
    "duration": 745,
    "start_time": "2025-03-20T14:21:17.188Z"
   },
   {
    "duration": 46,
    "start_time": "2025-03-20T14:21:17.935Z"
   },
   {
    "duration": 11,
    "start_time": "2025-03-20T14:21:17.983Z"
   },
   {
    "duration": 20,
    "start_time": "2025-03-20T14:21:17.995Z"
   },
   {
    "duration": 10,
    "start_time": "2025-03-20T14:21:18.018Z"
   },
   {
    "duration": 7,
    "start_time": "2025-03-20T14:21:18.031Z"
   },
   {
    "duration": 9,
    "start_time": "2025-03-20T14:21:18.041Z"
   },
   {
    "duration": 68,
    "start_time": "2025-03-20T14:21:18.052Z"
   },
   {
    "duration": 8,
    "start_time": "2025-03-20T14:21:18.122Z"
   },
   {
    "duration": 85,
    "start_time": "2025-03-20T14:21:18.131Z"
   },
   {
    "duration": 327,
    "start_time": "2025-03-20T14:21:18.221Z"
   },
   {
    "duration": 3,
    "start_time": "2025-03-20T14:22:56.651Z"
   },
   {
    "duration": 98,
    "start_time": "2025-03-20T14:23:11.248Z"
   },
   {
    "duration": 808,
    "start_time": "2025-03-20T14:23:27.015Z"
   },
   {
    "duration": 33,
    "start_time": "2025-03-20T14:23:27.826Z"
   },
   {
    "duration": 11,
    "start_time": "2025-03-20T14:23:27.861Z"
   },
   {
    "duration": 36,
    "start_time": "2025-03-20T14:23:27.874Z"
   },
   {
    "duration": 8,
    "start_time": "2025-03-20T14:23:27.912Z"
   },
   {
    "duration": 7,
    "start_time": "2025-03-20T14:23:27.922Z"
   },
   {
    "duration": 8,
    "start_time": "2025-03-20T14:23:27.931Z"
   },
   {
    "duration": 83,
    "start_time": "2025-03-20T14:23:27.941Z"
   },
   {
    "duration": 83,
    "start_time": "2025-03-20T14:23:28.025Z"
   },
   {
    "duration": 13,
    "start_time": "2025-03-20T14:23:28.111Z"
   },
   {
    "duration": 383,
    "start_time": "2025-03-20T14:23:28.126Z"
   },
   {
    "duration": 7,
    "start_time": "2025-03-20T16:14:50.792Z"
   },
   {
    "duration": 14,
    "start_time": "2025-03-20T16:15:01.164Z"
   },
   {
    "duration": 14,
    "start_time": "2025-03-20T16:15:28.949Z"
   },
   {
    "duration": 13,
    "start_time": "2025-03-20T16:15:48.744Z"
   },
   {
    "duration": 68,
    "start_time": "2025-03-20T16:21:48.885Z"
   },
   {
    "duration": 29,
    "start_time": "2025-03-20T16:21:55.783Z"
   },
   {
    "duration": 14,
    "start_time": "2025-03-20T16:23:37.314Z"
   },
   {
    "duration": 21,
    "start_time": "2025-03-20T16:23:46.369Z"
   },
   {
    "duration": 16,
    "start_time": "2025-03-20T16:24:25.736Z"
   },
   {
    "duration": 17,
    "start_time": "2025-03-20T16:24:29.188Z"
   },
   {
    "duration": 24,
    "start_time": "2025-03-20T16:24:31.743Z"
   },
   {
    "duration": 12,
    "start_time": "2025-03-20T16:26:35.612Z"
   },
   {
    "duration": 3,
    "start_time": "2025-03-20T16:27:10.889Z"
   },
   {
    "duration": 963,
    "start_time": "2025-03-20T16:28:20.988Z"
   },
   {
    "duration": 38,
    "start_time": "2025-03-20T16:31:40.375Z"
   },
   {
    "duration": 7,
    "start_time": "2025-03-20T16:31:41.268Z"
   },
   {
    "duration": 990,
    "start_time": "2025-03-20T16:32:05.230Z"
   },
   {
    "duration": 43,
    "start_time": "2025-03-20T16:32:14.864Z"
   },
   {
    "duration": 8517,
    "start_time": "2025-03-20T16:47:27.768Z"
   },
   {
    "duration": 11644,
    "start_time": "2025-03-20T16:48:28.351Z"
   },
   {
    "duration": 47,
    "start_time": "2025-03-20T16:50:28.529Z"
   },
   {
    "duration": 36,
    "start_time": "2025-03-20T16:56:22.152Z"
   },
   {
    "duration": 41,
    "start_time": "2025-03-20T16:57:03.402Z"
   },
   {
    "duration": 2102,
    "start_time": "2025-03-20T17:00:05.354Z"
   },
   {
    "duration": 70,
    "start_time": "2025-03-20T17:00:11.287Z"
   },
   {
    "duration": 3,
    "start_time": "2025-03-20T17:00:32.044Z"
   },
   {
    "duration": 150,
    "start_time": "2025-03-20T17:00:36.125Z"
   },
   {
    "duration": 208,
    "start_time": "2025-03-20T17:00:50.729Z"
   },
   {
    "duration": 245,
    "start_time": "2025-03-20T17:02:42.196Z"
   },
   {
    "duration": 165,
    "start_time": "2025-03-20T17:03:04.046Z"
   },
   {
    "duration": 190,
    "start_time": "2025-03-20T17:03:39.064Z"
   },
   {
    "duration": 205,
    "start_time": "2025-03-20T17:04:12.155Z"
   },
   {
    "duration": 232,
    "start_time": "2025-03-20T17:04:25.218Z"
   },
   {
    "duration": 236,
    "start_time": "2025-03-20T17:04:32.429Z"
   },
   {
    "duration": 189,
    "start_time": "2025-03-20T17:05:35.587Z"
   },
   {
    "duration": 261,
    "start_time": "2025-03-20T17:07:18.587Z"
   },
   {
    "duration": 240,
    "start_time": "2025-03-20T17:07:40.554Z"
   },
   {
    "duration": 923,
    "start_time": "2025-03-20T17:08:16.535Z"
   },
   {
    "duration": 33,
    "start_time": "2025-03-20T17:08:17.460Z"
   },
   {
    "duration": 33,
    "start_time": "2025-03-20T17:08:17.496Z"
   },
   {
    "duration": 20,
    "start_time": "2025-03-20T17:08:17.530Z"
   },
   {
    "duration": 9,
    "start_time": "2025-03-20T17:08:17.552Z"
   },
   {
    "duration": 8,
    "start_time": "2025-03-20T17:08:17.562Z"
   },
   {
    "duration": 8,
    "start_time": "2025-03-20T17:08:17.571Z"
   },
   {
    "duration": 358,
    "start_time": "2025-03-20T17:08:17.581Z"
   },
   {
    "duration": 337,
    "start_time": "2025-03-20T17:08:17.949Z"
   },
   {
    "duration": 14,
    "start_time": "2025-03-20T17:08:18.288Z"
   },
   {
    "duration": 40,
    "start_time": "2025-03-20T17:08:18.306Z"
   },
   {
    "duration": 249,
    "start_time": "2025-03-20T17:08:18.348Z"
   },
   {
    "duration": 1004,
    "start_time": "2025-03-20T17:08:18.599Z"
   },
   {
    "duration": 43,
    "start_time": "2025-03-20T17:08:19.606Z"
   },
   {
    "duration": 11208,
    "start_time": "2025-03-20T17:08:19.651Z"
   },
   {
    "duration": 171,
    "start_time": "2025-03-20T17:08:30.860Z"
   },
   {
    "duration": 38,
    "start_time": "2025-03-20T17:08:31.033Z"
   },
   {
    "duration": 167,
    "start_time": "2025-03-20T17:08:31.073Z"
   },
   {
    "duration": 8333,
    "start_time": "2025-03-20T17:23:23.150Z"
   },
   {
    "duration": 181,
    "start_time": "2025-03-20T17:24:11.917Z"
   },
   {
    "duration": 979,
    "start_time": "2025-03-20T17:24:27.501Z"
   },
   {
    "duration": 39,
    "start_time": "2025-03-20T17:24:28.482Z"
   },
   {
    "duration": 11,
    "start_time": "2025-03-20T17:24:28.523Z"
   },
   {
    "duration": 24,
    "start_time": "2025-03-20T17:24:28.536Z"
   },
   {
    "duration": 10,
    "start_time": "2025-03-20T17:24:28.563Z"
   },
   {
    "duration": 9,
    "start_time": "2025-03-20T17:24:28.575Z"
   },
   {
    "duration": 15,
    "start_time": "2025-03-20T17:24:28.608Z"
   },
   {
    "duration": 40,
    "start_time": "2025-03-20T17:24:28.632Z"
   },
   {
    "duration": 297,
    "start_time": "2025-03-20T17:24:28.676Z"
   },
   {
    "duration": 8760,
    "start_time": "2025-03-20T17:24:28.976Z"
   },
   {
    "duration": 164,
    "start_time": "2025-03-20T17:24:37.738Z"
   },
   {
    "duration": 37,
    "start_time": "2025-03-20T17:24:37.904Z"
   },
   {
    "duration": 67,
    "start_time": "2025-03-20T17:24:37.949Z"
   },
   {
    "duration": 255,
    "start_time": "2025-03-20T17:24:38.030Z"
   },
   {
    "duration": 1075,
    "start_time": "2025-03-20T17:24:38.288Z"
   },
   {
    "duration": 37,
    "start_time": "2025-03-20T17:24:39.365Z"
   },
   {
    "duration": 11885,
    "start_time": "2025-03-20T17:24:39.404Z"
   },
   {
    "duration": 236,
    "start_time": "2025-03-20T17:24:51.292Z"
   },
   {
    "duration": 47,
    "start_time": "2025-03-20T17:24:51.530Z"
   },
   {
    "duration": 181,
    "start_time": "2025-03-20T17:24:51.579Z"
   },
   {
    "duration": 8542,
    "start_time": "2025-03-20T17:25:34.282Z"
   },
   {
    "duration": 192,
    "start_time": "2025-03-20T17:25:52.344Z"
   },
   {
    "duration": 8497,
    "start_time": "2025-03-20T17:27:01.921Z"
   },
   {
    "duration": 31,
    "start_time": "2025-03-20T17:32:45.959Z"
   },
   {
    "duration": 1070,
    "start_time": "2025-03-20T17:32:55.494Z"
   },
   {
    "duration": 168,
    "start_time": "2025-03-20T17:33:56.525Z"
   },
   {
    "duration": 1058,
    "start_time": "2025-03-20T20:23:24.326Z"
   },
   {
    "duration": 40,
    "start_time": "2025-03-20T20:23:25.387Z"
   },
   {
    "duration": 13,
    "start_time": "2025-03-20T20:23:25.429Z"
   },
   {
    "duration": 27,
    "start_time": "2025-03-20T20:23:25.445Z"
   },
   {
    "duration": 33,
    "start_time": "2025-03-20T20:23:25.474Z"
   },
   {
    "duration": 8,
    "start_time": "2025-03-20T20:23:25.509Z"
   },
   {
    "duration": 11,
    "start_time": "2025-03-20T20:23:25.518Z"
   },
   {
    "duration": 181,
    "start_time": "2025-03-20T20:23:25.530Z"
   },
   {
    "duration": 343,
    "start_time": "2025-03-20T20:23:25.714Z"
   },
   {
    "duration": 8019,
    "start_time": "2025-03-20T20:23:26.060Z"
   },
   {
    "duration": 163,
    "start_time": "2025-03-20T20:23:34.081Z"
   },
   {
    "duration": 15,
    "start_time": "2025-03-20T20:23:34.246Z"
   },
   {
    "duration": 52,
    "start_time": "2025-03-20T20:23:34.262Z"
   },
   {
    "duration": 268,
    "start_time": "2025-03-20T20:23:34.318Z"
   },
   {
    "duration": 1018,
    "start_time": "2025-03-20T20:23:34.587Z"
   },
   {
    "duration": 153,
    "start_time": "2025-03-20T20:23:35.607Z"
   },
   {
    "duration": 13185,
    "start_time": "2025-03-20T20:23:35.763Z"
   },
   {
    "duration": 160,
    "start_time": "2025-03-20T20:23:48.950Z"
   },
   {
    "duration": 37,
    "start_time": "2025-03-20T20:23:49.112Z"
   },
   {
    "duration": 162,
    "start_time": "2025-03-20T20:23:49.150Z"
   },
   {
    "duration": 4,
    "start_time": "2025-03-20T20:25:04.752Z"
   },
   {
    "duration": 30,
    "start_time": "2025-03-20T20:25:04.758Z"
   },
   {
    "duration": 11,
    "start_time": "2025-03-20T20:25:04.789Z"
   },
   {
    "duration": 19,
    "start_time": "2025-03-20T20:25:04.801Z"
   },
   {
    "duration": 9,
    "start_time": "2025-03-20T20:25:04.823Z"
   },
   {
    "duration": 8,
    "start_time": "2025-03-20T20:25:04.833Z"
   },
   {
    "duration": 8,
    "start_time": "2025-03-20T20:25:04.842Z"
   },
   {
    "duration": 157,
    "start_time": "2025-03-20T20:25:04.851Z"
   },
   {
    "duration": 244,
    "start_time": "2025-03-20T20:25:05.010Z"
   },
   {
    "duration": 7836,
    "start_time": "2025-03-20T20:25:05.256Z"
   },
   {
    "duration": 163,
    "start_time": "2025-03-20T20:25:13.094Z"
   },
   {
    "duration": 14,
    "start_time": "2025-03-20T20:25:13.259Z"
   },
   {
    "duration": 42,
    "start_time": "2025-03-20T20:25:13.275Z"
   },
   {
    "duration": 271,
    "start_time": "2025-03-20T20:25:13.320Z"
   },
   {
    "duration": 976,
    "start_time": "2025-03-20T20:25:13.594Z"
   },
   {
    "duration": 160,
    "start_time": "2025-03-20T20:25:14.572Z"
   },
   {
    "duration": 10908,
    "start_time": "2025-03-20T20:25:14.734Z"
   },
   {
    "duration": 151,
    "start_time": "2025-03-20T20:25:25.643Z"
   },
   {
    "duration": 46,
    "start_time": "2025-03-20T20:25:25.796Z"
   },
   {
    "duration": 162,
    "start_time": "2025-03-20T20:25:25.843Z"
   }
  ],
  "kernelspec": {
   "display_name": "Python 3 (ipykernel)",
   "language": "python",
   "name": "python3"
  },
  "language_info": {
   "codemirror_mode": {
    "name": "ipython",
    "version": 3
   },
   "file_extension": ".py",
   "mimetype": "text/x-python",
   "name": "python",
   "nbconvert_exporter": "python",
   "pygments_lexer": "ipython3",
   "version": "3.9.19"
  },
  "toc": {
   "base_numbering": 1,
   "nav_menu": {},
   "number_sections": true,
   "sideBar": true,
   "skip_h1_title": true,
   "title_cell": "Table of Contents",
   "title_sidebar": "Contents",
   "toc_cell": false,
   "toc_position": {},
   "toc_section_display": true,
   "toc_window_display": false
  }
 },
 "nbformat": 4,
 "nbformat_minor": 2
}
